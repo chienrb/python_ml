{
 "cells": [
  {
   "attachments": {},
   "cell_type": "markdown",
   "metadata": {},
   "source": [
    "# Camera Calibration by Zhang's Method\n",
    "https://www.microsoft.com/en-us/research/wp-content/uploads/2016/02/tr98-71.pdf"
   ]
  },
  {
   "attachments": {},
   "cell_type": "markdown",
   "metadata": {},
   "source": [
    "<t>Given  : World Coordinates, Pixel Coordinates</t>\n",
    "\n",
    "<t>Output : Intrinsic Matrix, Extrinsic Matrix</t>"
   ]
  },
  {
   "cell_type": "code",
   "execution_count": 71,
   "metadata": {},
   "outputs": [],
   "source": [
    "import cv2\n",
    "import numpy as np\n",
    "import matplotlib.pyplot as plt\n",
    "import math\n",
    "import os\n",
    "import glob"
   ]
  },
  {
   "attachments": {},
   "cell_type": "markdown",
   "metadata": {},
   "source": [
    "## Reading Images"
   ]
  },
  {
   "cell_type": "code",
   "execution_count": 72,
   "metadata": {},
   "outputs": [],
   "source": [
    "files = glob.glob('../data/undistorted/*.png')\n",
    "imgs = []\n",
    "for f in files:\n",
    "    img = cv2.imread(f)\n",
    "    imgs.append(img)\n"
   ]
  },
  {
   "attachments": {},
   "cell_type": "markdown",
   "metadata": {},
   "source": [
    "## Create Pattern to Detect Chessboard and Get the World Coordinates"
   ]
  },
  {
   "cell_type": "code",
   "execution_count": 73,
   "metadata": {},
   "outputs": [],
   "source": [
    "# termination criteria\n",
    "criteria = (cv2.TERM_CRITERIA_EPS + cv2.TERM_CRITERIA_MAX_ITER, 30, 0.001)\n",
    "chessSize = (24,17)\n",
    "squareSize = 0.015\n",
    "\n",
    "# object points\n",
    "objp = np.zeros((chessSize[0]*chessSize[1],2),np.float32)\n",
    "objp[:,:2] = np.mgrid[0:chessSize[0],0:chessSize[1]].T.reshape(-1,2)\n",
    "objp = objp * squareSize"
   ]
  },
  {
   "cell_type": "code",
   "execution_count": 74,
   "metadata": {},
   "outputs": [],
   "source": [
    "def getImagesPoints(imgs, chessSize):\n",
    "    # Store all the object points and image points from all the images\n",
    "    objpoints = [] # 3d point in real world space\n",
    "    imgpoints = [] # 2d point in the image plane\n",
    "    for img in imgs:\n",
    "        gray = cv2.cvtColor(img, cv2.COLOR_BGR2GRAY)\n",
    "        # Find the chess board corners\n",
    "        ret, corners = cv2.findChessboardCorners(gray, chessSize, None)\n",
    "        if ret == True:\n",
    "            objpoints.append(objp)\n",
    "            corners = cv2.cornerSubPix(gray, corners, (11,11), (-1,-1), criteria)\n",
    "            corners = corners.reshape(-1,2)\n",
    "            imgpoints.append(corners)\n",
    "\n",
    "    imgpoints, objpoints = np.array(imgpoints), np.array(objpoints)\n",
    "    return imgpoints, objpoints"
   ]
  },
  {
   "cell_type": "code",
   "execution_count": 75,
   "metadata": {},
   "outputs": [],
   "source": [
    "def displayCorners(imgs, imgpoints, chessSize, save_dir):\n",
    "    for i, img in enumerate(imgs):\n",
    "        corners = imgpoints[i]\n",
    "        cv2.drawChessboardCorners(img, chessSize, corners, True)\n",
    "        \n",
    "        fname = os.path.join(save_dir,str(i+1) + \".png\")\n",
    "        cv2.imwrite(fname, img)"
   ]
  },
  {
   "cell_type": "code",
   "execution_count": 76,
   "metadata": {},
   "outputs": [],
   "source": [
    "imgpoints, objpoints = getImagesPoints(imgs, chessSize)"
   ]
  },
  {
   "cell_type": "code",
   "execution_count": 77,
   "metadata": {},
   "outputs": [],
   "source": [
    "displayCorners(imgs, imgpoints, chessSize, '../data/corners')"
   ]
  },
  {
   "attachments": {},
   "cell_type": "markdown",
   "metadata": {},
   "source": [
    "## Prepare Utils\n",
    "$$\n",
    "s \\begin{bmatrix} u \\\\ v \\\\ 1 \\end{bmatrix} = K \\begin{bmatrix} r_1 & r_2 & r_3 & t\\end{bmatrix} \\begin{bmatrix} X \\\\ Y \\\\ Z \\\\ 1\\end{bmatrix}\n",
    "$$\n",
    "\n",
    "We assume the model plane is on Z = 0 of the world coordinate system (chessboard)\n",
    "$$\n",
    "s \\begin{bmatrix} u \\\\ v \\\\ 1 \\end{bmatrix} = K \\begin{bmatrix} r_1 & r_2 & t\\end{bmatrix} \\begin{bmatrix} X \\\\ Y \\\\ 1\\end{bmatrix} (1)\n",
    "$$\n",
    "The 3x3 matrix H is defined only up to a scale factor"
   ]
  },
  {
   "attachments": {},
   "cell_type": "markdown",
   "metadata": {},
   "source": [
    "Expand (1) as linear equation and Rearrange terms, we get\n",
    "$$\n",
    "\\begin{bmatrix} -x & -y & -1 & 0 & 0 & 0 & u*x & u*y & u \\\\ 0 & 0 & 0 & -x & -y & -1 & v*x & v*y & v \\\\ ... & ... & ... & ... & ... & ... & ... & ... & ...\\end{bmatrix}*\n",
    "\\begin{bmatrix} h_{11} & h_{12} & h_{13} \\\\ h_{21} & h_{22} & h_{23} \\\\ h_{31} & h_{32} & h_{33}\\end{bmatrix} = \\begin{bmatrix} 0 \\\\ ... \\\\ 0\\end{bmatrix}\n",
    "$$\n",
    "\n",
    "https://youtu.be/hxbQ-F8u08U"
   ]
  },
  {
   "cell_type": "code",
   "execution_count": 78,
   "metadata": {},
   "outputs": [],
   "source": [
    "def getH(cPoints, wPoints):\n",
    "    X = wPoints[:,0]\n",
    "    Y = wPoints[:,1]\n",
    "    U = cPoints[:,0]\n",
    "    V = cPoints[:,1]\n",
    "\n",
    "    A = []\n",
    "\n",
    "    for x,y,u,v in zip(X,Y,U,V):\n",
    "        row1 = np.array([-x, -y, -1, 0, 0, 0, u*x, u*y, u])\n",
    "        row2 = np.array([0, 0, 0, -x, -y, -1, v*x, v*y, v])\n",
    "\n",
    "        A.append(row1)\n",
    "        A.append(row2)\n",
    "\n",
    "    A = np.array(A)\n",
    "\n",
    "    # Singular Value Decomposition\n",
    "    U, E, VT = np.linalg.svd(A, full_matrices=True)\n",
    "\n",
    "    idx = np.argmin(E)\n",
    "\n",
    "    # Last column of VT is the answer of H\n",
    "    H = VT[idx].reshape((3,3))\n",
    "\n",
    "    # H is defined up to a scale ==> set scale so that H[2,2] = 1\n",
    "    H /= H[2,2]\n",
    "    return H\n",
    "    \n"
   ]
  },
  {
   "cell_type": "code",
   "execution_count": 79,
   "metadata": {},
   "outputs": [],
   "source": [
    "wPoints = objpoints[0]\n",
    "cPoints = imgpoints[0]\n",
    "H = getH(cPoints, wPoints)"
   ]
  },
  {
   "cell_type": "code",
   "execution_count": 80,
   "metadata": {},
   "outputs": [
    {
     "data": {
      "text/plain": [
       "array([[1.19287339e+03, 6.67193126e+01, 7.50248921e+02],\n",
       "       [8.22308400e+01, 1.18655205e+03, 7.64981679e+02],\n",
       "       [9.68051574e-02, 1.12827181e-01, 1.00000000e+00]])"
      ]
     },
     "execution_count": 80,
     "metadata": {},
     "output_type": "execute_result"
    }
   ],
   "source": [
    "H"
   ]
  },
  {
   "cell_type": "code",
   "execution_count": 81,
   "metadata": {},
   "outputs": [],
   "source": [
    "from scipy.optimize import curve_fit"
   ]
  },
  {
   "attachments": {},
   "cell_type": "markdown",
   "metadata": {},
   "source": [
    "Maximum Likelihood Estimation\n",
    "\n",
    "https://www.researchgate.net/publication/303233579_Zhang%27s_Camera_Calibration_Algorithm_In-Depth_Tutorial_and_Implementation"
   ]
  },
  {
   "cell_type": "code",
   "execution_count": 82,
   "metadata": {},
   "outputs": [],
   "source": [
    "def est_cPoints(wPoints, *H):\n",
    "    \"\"\"\n",
    "    Value function for Levenberg-Marquardt refinement.\n",
    "    \"\"\"\n",
    "    \n",
    "    N = np.shape(wPoints)[0] // 2\n",
    "    \n",
    "    h11, h12, h13, h21, h22, h23, h31, h32, h33 = H\n",
    "\n",
    "    X = wPoints[:N]\n",
    "    Y = wPoints[N:]\n",
    "\n",
    "    U = (h11 * X + h12 * Y + h13) / (h31 * X + h32 * Y + h33)\n",
    "    V = (h21 * X + h22 * Y + h23) / (h31 * X + h32 * Y + h33)\n",
    "\n",
    "    cPoints_new = np.concatenate((U,V))\n",
    "\n",
    "    # print(\"cPoints_new shape\", np.shape(cPoints_new))\n",
    "\n",
    "    return cPoints_new"
   ]
  },
  {
   "cell_type": "code",
   "execution_count": 83,
   "metadata": {},
   "outputs": [],
   "source": [
    "def J_refine(wPoints, *H):\n",
    "    \"\"\"\n",
    "    Jacobian function for Levenberg-Marquardt refinement.\n",
    "    \"\"\"\n",
    "\n",
    "    N = np.shape(wPoints)[0] // 2\n",
    "    \n",
    "    h11, h12, h13, h21, h22, h23, h31, h32, h33 = H\n",
    "\n",
    "    X = wPoints[:N]\n",
    "    Y = wPoints[N:]\n",
    "\n",
    "    U = h11 * X + h12 * Y + h13\n",
    "    V = h21 * X + h22 * Y + h23\n",
    "    W = h31 * X + h32 * Y + h33\n",
    "\n",
    "    row1 = np.stack((X/W, Y/W, 1.0/W, np.zeros_like(X), np.zeros_like(X), np.zeros_like(X), -U*X/W**2, -U*Y/W**2, -U/W**2)).T\n",
    "    row2 = np.stack((np.zeros_like(X), np.zeros_like(X), np.zeros_like(X), X/W, Y/W, 1.0/W, -V*X/W**2, -V*Y/W**2, -V/W**2)).T\n",
    "\n",
    "    J = np.concatenate((row1, row2))\n",
    "\n",
    "    # print(\"J shape\", np.shape(J))\n",
    "\n",
    "    return J"
   ]
  },
  {
   "cell_type": "code",
   "execution_count": 84,
   "metadata": {},
   "outputs": [],
   "source": [
    "def refine_H(wPoints, cPoints, H):    \n",
    "    \"\"\"\n",
    "    Perform nonlinear least squares to refine linear homography estimates\n",
    "    Args:\n",
    "       H      : 3x3 homography matrix\n",
    "       wPoints: Nx2 world frame planar model\n",
    "       cPoints: Nx2 camera frame correspondences\n",
    "    Returns:\n",
    "       Refined 3x3 homography\n",
    "    \"\"\"\n",
    "    wPoints = wPoints.ravel()\n",
    "   #  print(\"wPoints shape\", np.shape(wPoints))\n",
    "\n",
    "    cPoints = cPoints.ravel()\n",
    "   #  print(\"cPoints shape\", np.shape(cPoints))\n",
    "\n",
    "    H       = H.ravel()\n",
    "   #  print(\"H shape\", np.shape(H))\n",
    "\n",
    "    popt, pcov = curve_fit(est_cPoints, wPoints, cPoints, p0=H, jac=J_refine)\n",
    "\n",
    "    h_refined = popt\n",
    "\n",
    "    # Normalize and reconstitute homography\n",
    "    h_refined /= h_refined[-1]\n",
    "    H_refined = h_refined.reshape((3,3))\n",
    "   #  print(np.shape(H_refined))\n",
    "    return H_refined"
   ]
  },
  {
   "cell_type": "code",
   "execution_count": 85,
   "metadata": {},
   "outputs": [],
   "source": [
    "H = refine_H(wPoints, cPoints, H)"
   ]
  },
  {
   "cell_type": "code",
   "execution_count": 86,
   "metadata": {},
   "outputs": [
    {
     "data": {
      "text/plain": [
       "array([[ 9.63204708e+02,  2.67253051e+02,  7.59596296e+02],\n",
       "       [-1.42977128e+02,  1.37069027e+03,  7.61158885e+02],\n",
       "       [-1.01389900e-01,  3.02705305e-01,  1.00000000e+00]])"
      ]
     },
     "execution_count": 86,
     "metadata": {},
     "output_type": "execute_result"
    }
   ],
   "source": [
    "H"
   ]
  },
  {
   "cell_type": "code",
   "execution_count": 87,
   "metadata": {},
   "outputs": [],
   "source": [
    "def getAllH(imgpoints, objpoints):\n",
    "    all_H = []\n",
    "    for wPoints in objpoints:\n",
    "        for cPoints in imgpoints:\n",
    "            H = getH(cPoints, wPoints)\n",
    "            H = refine_H(wPoints, cPoints, H)\n",
    "            all_H.append(H)\n",
    "    return all_H"
   ]
  },
  {
   "cell_type": "code",
   "execution_count": 88,
   "metadata": {},
   "outputs": [
    {
     "name": "stderr",
     "output_type": "stream",
     "text": [
      "/home/tvc/miniconda3/envs/ml/lib/python3.7/site-packages/scipy/optimize/minpack.py:834: OptimizeWarning: Covariance of the parameters could not be estimated\n",
      "  category=OptimizeWarning)\n"
     ]
    }
   ],
   "source": [
    "all_H = getAllH(imgpoints, objpoints)"
   ]
  },
  {
   "cell_type": "code",
   "execution_count": 89,
   "metadata": {},
   "outputs": [
    {
     "data": {
      "text/plain": [
       "100"
      ]
     },
     "execution_count": 89,
     "metadata": {},
     "output_type": "execute_result"
    }
   ],
   "source": [
    "len(all_H)"
   ]
  },
  {
   "attachments": {},
   "cell_type": "markdown",
   "metadata": {},
   "source": [
    "Or,\n",
    "$$\n",
    "s \\tilde{m} = H \\tilde{M}\n",
    "$$\n",
    "with\n",
    "$$\n",
    "H = \\begin{bmatrix} h_1 & h_2 & h_3\\end{bmatrix} = \\lambda K \\begin{bmatrix} r_1 & r_2 & t\\end{bmatrix} (1)\n",
    "$$\n",
    "So that,\n",
    "$$\n",
    "K^{-1}*h_1 = r_1 \\\\\n",
    "K^{-1}*h_2 = r_2\n",
    "$$\n",
    "$$\n",
    "\\begin{cases}r_1, r_2 \\text{ are orthonormal because it represents the rotation direction of each axis x } \\& \\text{ y} \\\\ r_{1}^{T}*r_{2}=0 \\\\ ||r_1|| = ||r_2|| = 1 \\\\\n",
    "r_{1}^{T}*r_{1}=r_{2}^{T}*r_{2}=1\\end{cases}\n",
    "$$\n",
    "We have,\n",
    "$$\n",
    "\\begin{cases}\n",
    "r_{1}^{T}*r_{2} = (K^{-1}*h_1)^{T} * (K^{-1}*h_2)=h_{1}^{T}*K^{-T}*K^{-1}*h_{2}\\\\\n",
    "r_{1}^{T}*r_{1}-r_{2}^{T}*r_{2}=h_{1}^{T}*K^{-T}*K^{-1}*h_{1}-h_{2}^{T}*K^{-T}*K^{-1}*h_{2}=0\n",
    "\\end{cases} (2)\n",
    "$$\n",
    "Let call, $K^{-T}*K^{-1}=B$ and $B^{T}=B$ and $B = \\begin{bmatrix} b_{11} & b_{12} & b_{13}\\\\b_{12} & b_{22} & b_{23}\\\\b_{13} & b_{23} & b_{33}\\end{bmatrix}$\n",
    "\n",
    "Note that, $B$ is symmetric, defined by a 6D vector\n",
    "$$\n",
    "b=\\begin{bmatrix}B_{11} & B_{12} & B_{22} & B_{13} & B_{23} & B_{33}\\end{bmatrix}^{T}\n",
    "$$\n",
    "Let the $i^{th}$ column of H be $h_i=\\begin{bmatrix}h_{i1} & h_{i2} & h_{i3}\\end{bmatrix}^{T}$. Then, we have\n",
    "$$\n",
    "h_{i}^{T}*B*h_{j}=v_{ij}^{T}*b\n",
    "$$\n",
    "with\n",
    "$$\n",
    "v_{ij}=\\begin{bmatrix}h_{i1}*h_{j1} & h_{i1}*h_{j2}+h_{i2}*h_{j1} & h_{i2}*h_{j2} & h_{i3}*h_{j1}+h_{i1}*h_{j3} & h_{i2}*h_{j3}+h_{i3}*h_{j2} & h_{i3}*h_{j3}\\end{bmatrix}^{T}\n",
    "$$"
   ]
  },
  {
   "cell_type": "code",
   "execution_count": 90,
   "metadata": {},
   "outputs": [],
   "source": [
    "def getVij(hi, hj):\n",
    "    Vij = np.array([ hi[0]*hj[0], hi[0]*hj[1] + hi[1]*hj[0], hi[1]*hj[1], hi[2]*hj[0] + hi[0]*hj[2], hi[2]*hj[1] + hi[1]*hj[2], hi[2]*hj[2] ])\n",
    "    return Vij.T"
   ]
  },
  {
   "attachments": {},
   "cell_type": "markdown",
   "metadata": {},
   "source": [
    "$(2)$ can be rewritten as with 1 image\n",
    "$$\n",
    "\\begin{bmatrix}v_{12}^{T} \\\\ (v_{11} - v_{22})^{T}\\end{bmatrix}*b=0\n",
    "$$\n",
    "If $n$ images, we get\n",
    "$$\n",
    "V*b=0\n",
    "$$\n",
    "by stack $n$ matrices like $(2)$-modified"
   ]
  },
  {
   "cell_type": "code",
   "execution_count": 91,
   "metadata": {},
   "outputs": [],
   "source": [
    "def getV(all_H):\n",
    "    # row1 = []\n",
    "    # row2 = []\n",
    "    V=[]\n",
    "    for H in all_H:\n",
    "        h1 = H[:,0]\n",
    "        h2 = H[:,1]\n",
    "\n",
    "        v12 = getVij(h1,h2)\n",
    "        v11 = getVij(h1,h1)\n",
    "        v22 = getVij(h2,h2)\n",
    "\n",
    "        V.append(v12.T)\n",
    "        V.append((v11-v22).T)\n",
    "\n",
    "    V = np.array(V)\n",
    "\n",
    "    # for H in all_H:\n",
    "    #     h1 = H[:,0]\n",
    "    #     h2 = H[:,1]\n",
    "\n",
    "    #     v12 = getVij(h1,h2)\n",
    "    #     v11 = getVij(h1,h1)\n",
    "    #     v22 = getVij(h2,h2)\n",
    "\n",
    "    #     row1.append(v12.T)\n",
    "    #     row2.append((v11-v22).T)\n",
    "\n",
    "    # row1, row2 = np.array(row1), np.array(row2)\n",
    "\n",
    "    # # print(np.shape(row1))\n",
    "    # # print(np.shape(row2))\n",
    "\n",
    "    # V = np.concatenate((row1,row2))\n",
    "\n",
    "    return V"
   ]
  },
  {
   "cell_type": "code",
   "execution_count": 92,
   "metadata": {},
   "outputs": [],
   "source": [
    "def getB(all_H):\n",
    "    V = getV(all_H)\n",
    "    U, sigma, VT = np.linalg.svd(V)\n",
    "    idx = np.argmin(sigma)\n",
    "    b = VT[idx]\n",
    "\n",
    "    B0, B1, B2, B3, B4, B5 = b\n",
    "\n",
    "    # Form B = K_-T K_-1\n",
    "    B = np.array([[B0, B1, B3],\n",
    "                  [B1, B2, B4],\n",
    "                  [B3, B4, B5]])\n",
    "\n",
    "    return B"
   ]
  },
  {
   "cell_type": "code",
   "execution_count": 93,
   "metadata": {},
   "outputs": [],
   "source": [
    "B = getB(all_H)"
   ]
  },
  {
   "cell_type": "code",
   "execution_count": 94,
   "metadata": {},
   "outputs": [
    {
     "data": {
      "text/plain": [
       "array([[-8.38362221e-06,  6.23900963e-07,  4.10561734e-03],\n",
       "       [ 6.23900963e-07,  1.66727990e-06, -1.61867863e-03],\n",
       "       [ 4.10561734e-03, -1.61867863e-03, -9.99990262e-01]])"
      ]
     },
     "execution_count": 94,
     "metadata": {},
     "output_type": "execute_result"
    }
   ],
   "source": [
    "B"
   ]
  },
  {
   "attachments": {},
   "cell_type": "markdown",
   "metadata": {},
   "source": [
    "We have, $K$ is a camera intrinsic matrix, and\n",
    "$$\n",
    "K=\\begin{bmatrix} \\alpha & \\gamma & u_0 \\\\ 0 & \\beta & v_0 \\\\ 0 & 0 & 1\\end{bmatrix}\n",
    "$$\n",
    "\n",
    "Using Zhang's closed form solution for intrinsic parameters (Zhang, Appendix B, pg. 18)\n",
    "\n",
    "$$\n",
    "\\begin{cases}\n",
    "v_0 = (B_{12}B_{13}-B_{11}B_{23})/(B_{11}B_{22}-B_{12}^{2})\\\\\n",
    "\\lambda=B_{33}-[B_{13}^{2}+v_{0}(B_{12}B_{13}-B_{11}B_{23})]/B_{11}\\\\\n",
    "\\alpha=\\sqrt{\\lambda/B_{11}}\\\\\n",
    "\\beta=\\sqrt{\\lambda B_{11}/(B_{11}B_{22}-B_{12}^{2})}\\\\\n",
    "\\gamma=-B_{12} \\alpha^{2} \\beta / \\lambda\\\\\n",
    "u_0=\\gamma v_0/\\beta - B_{13} \\alpha^{2}/\\lambda\n",
    "\\end{cases}\n",
    "$$"
   ]
  },
  {
   "cell_type": "code",
   "execution_count": 95,
   "metadata": {},
   "outputs": [],
   "source": [
    "def getK(B):\n",
    "    v0 = (B[0,1] * B[0,2] - B[0,0] * B[1,2]) / (B[0,0] * B[1,1] - B[0,1] * B[0,1])\n",
    "    lambda_ = B[2,2] - (B[0,2] * B[0,2] + v0 * (B[0,1] * B[0,2] - B[0,0] * B[1,2])) / B[0,0]\n",
    "    alpha = np.sqrt(lambda_ / B[0,0])\n",
    "    beta = np.sqrt(lambda_ * B[0,0] / (B[0,0] * B[1,1] - B[0,1] * B[0,1]))\n",
    "    gamma = -B[0,1] * alpha * alpha * beta / lambda_\n",
    "    u0 = gamma * v0 / beta - B[0,2] * alpha * alpha / lambda_\n",
    "\n",
    "    K = np.array([[alpha, gamma, u0],\n",
    "                  [0.   , beta , v0],\n",
    "                  [0.   , 0.   , 1.]])\n",
    "    return K"
   ]
  },
  {
   "cell_type": "code",
   "execution_count": 96,
   "metadata": {},
   "outputs": [
    {
     "name": "stderr",
     "output_type": "stream",
     "text": [
      "/home/tvc/miniconda3/envs/ml/lib/python3.7/site-packages/ipykernel_launcher.py:4: RuntimeWarning: invalid value encountered in sqrt\n",
      "  after removing the cwd from sys.path.\n"
     ]
    }
   ],
   "source": [
    "K = getK(B)"
   ]
  },
  {
   "cell_type": "code",
   "execution_count": 97,
   "metadata": {},
   "outputs": [
    {
     "data": {
      "text/plain": [
       "array([[         nan,          nan,          nan],\n",
       "       [  0.        ,  50.68663101, 766.25718673],\n",
       "       [  0.        ,   0.        ,   1.        ]])"
      ]
     },
     "execution_count": 97,
     "metadata": {},
     "output_type": "execute_result"
    }
   ],
   "source": [
    "K"
   ]
  },
  {
   "attachments": {},
   "cell_type": "markdown",
   "metadata": {},
   "source": [
    "From $(1)$,\n",
    "$$\n",
    "r_{1}=\\lambda*A^{-1}*h_{1} \\\\\n",
    "r_{2}=\\lambda*A^{-1}*h_{2} \\\\\n",
    "r_{3}=cross(r_{1},r_{2}) \\\\\n",
    "t = \\lambda*A^{-1}*h_{3}\n",
    "$$\n",
    "With\n",
    "$$\n",
    "\\lambda = {1 \\over ||A^{-1}*h_{1}||} = {1 \\over ||A^{-1}*h_{2}||}\n",
    "$$"
   ]
  },
  {
   "cell_type": "code",
   "execution_count": 98,
   "metadata": {},
   "outputs": [],
   "source": [
    "def getR_n_T(K, all_H):\n",
    "    all_RT = []\n",
    "    for H in all_H:\n",
    "        h1 = H[:,0]\n",
    "        h2 = H[:,1]\n",
    "        h3 = H[:,2]\n",
    "        lamb = np.linalg.norm(np.dot(np.linalg.inv(K), h1), 2)\n",
    "\n",
    "        r1 = np.dot(np.linalg.inv(K), h1) / lamb\n",
    "        r2 = np.dot(np.linalg.inv(K), h2) / lamb\n",
    "        r3 = np.cross(r1, r2)\n",
    "        t = np.dot(np.linalg.inv(K), h3) / lamb\n",
    "        RT = np.vstack((r1, r2, r3, t)).T\n",
    "        all_RT.append(RT)\n",
    "\n",
    "    return all_RT  "
   ]
  },
  {
   "cell_type": "code",
   "execution_count": 99,
   "metadata": {},
   "outputs": [],
   "source": [
    "all_RT = getR_n_T(K, all_H)"
   ]
  },
  {
   "cell_type": "code",
   "execution_count": 100,
   "metadata": {},
   "outputs": [
    {
     "data": {
      "text/plain": [
       "[array([[nan, nan, nan, nan],\n",
       "        [nan, nan, nan, nan],\n",
       "        [nan, nan, nan, nan]]),\n",
       " array([[nan, nan, nan, nan],\n",
       "        [nan, nan, nan, nan],\n",
       "        [nan, nan, nan, nan]]),\n",
       " array([[nan, nan, nan, nan],\n",
       "        [nan, nan, nan, nan],\n",
       "        [nan, nan, nan, nan]]),\n",
       " array([[nan, nan, nan, nan],\n",
       "        [nan, nan, nan, nan],\n",
       "        [nan, nan, nan, nan]]),\n",
       " array([[nan, nan, nan, nan],\n",
       "        [nan, nan, nan, nan],\n",
       "        [nan, nan, nan, nan]]),\n",
       " array([[nan, nan, nan, nan],\n",
       "        [nan, nan, nan, nan],\n",
       "        [nan, nan, nan, nan]]),\n",
       " array([[nan, nan, nan, nan],\n",
       "        [nan, nan, nan, nan],\n",
       "        [nan, nan, nan, nan]]),\n",
       " array([[nan, nan, nan, nan],\n",
       "        [nan, nan, nan, nan],\n",
       "        [nan, nan, nan, nan]]),\n",
       " array([[nan, nan, nan, nan],\n",
       "        [nan, nan, nan, nan],\n",
       "        [nan, nan, nan, nan]]),\n",
       " array([[nan, nan, nan, nan],\n",
       "        [nan, nan, nan, nan],\n",
       "        [nan, nan, nan, nan]]),\n",
       " array([[nan, nan, nan, nan],\n",
       "        [nan, nan, nan, nan],\n",
       "        [nan, nan, nan, nan]]),\n",
       " array([[nan, nan, nan, nan],\n",
       "        [nan, nan, nan, nan],\n",
       "        [nan, nan, nan, nan]]),\n",
       " array([[nan, nan, nan, nan],\n",
       "        [nan, nan, nan, nan],\n",
       "        [nan, nan, nan, nan]]),\n",
       " array([[nan, nan, nan, nan],\n",
       "        [nan, nan, nan, nan],\n",
       "        [nan, nan, nan, nan]]),\n",
       " array([[nan, nan, nan, nan],\n",
       "        [nan, nan, nan, nan],\n",
       "        [nan, nan, nan, nan]]),\n",
       " array([[nan, nan, nan, nan],\n",
       "        [nan, nan, nan, nan],\n",
       "        [nan, nan, nan, nan]]),\n",
       " array([[nan, nan, nan, nan],\n",
       "        [nan, nan, nan, nan],\n",
       "        [nan, nan, nan, nan]]),\n",
       " array([[nan, nan, nan, nan],\n",
       "        [nan, nan, nan, nan],\n",
       "        [nan, nan, nan, nan]]),\n",
       " array([[nan, nan, nan, nan],\n",
       "        [nan, nan, nan, nan],\n",
       "        [nan, nan, nan, nan]]),\n",
       " array([[nan, nan, nan, nan],\n",
       "        [nan, nan, nan, nan],\n",
       "        [nan, nan, nan, nan]]),\n",
       " array([[nan, nan, nan, nan],\n",
       "        [nan, nan, nan, nan],\n",
       "        [nan, nan, nan, nan]]),\n",
       " array([[nan, nan, nan, nan],\n",
       "        [nan, nan, nan, nan],\n",
       "        [nan, nan, nan, nan]]),\n",
       " array([[nan, nan, nan, nan],\n",
       "        [nan, nan, nan, nan],\n",
       "        [nan, nan, nan, nan]]),\n",
       " array([[nan, nan, nan, nan],\n",
       "        [nan, nan, nan, nan],\n",
       "        [nan, nan, nan, nan]]),\n",
       " array([[nan, nan, nan, nan],\n",
       "        [nan, nan, nan, nan],\n",
       "        [nan, nan, nan, nan]]),\n",
       " array([[nan, nan, nan, nan],\n",
       "        [nan, nan, nan, nan],\n",
       "        [nan, nan, nan, nan]]),\n",
       " array([[nan, nan, nan, nan],\n",
       "        [nan, nan, nan, nan],\n",
       "        [nan, nan, nan, nan]]),\n",
       " array([[nan, nan, nan, nan],\n",
       "        [nan, nan, nan, nan],\n",
       "        [nan, nan, nan, nan]]),\n",
       " array([[nan, nan, nan, nan],\n",
       "        [nan, nan, nan, nan],\n",
       "        [nan, nan, nan, nan]]),\n",
       " array([[nan, nan, nan, nan],\n",
       "        [nan, nan, nan, nan],\n",
       "        [nan, nan, nan, nan]]),\n",
       " array([[nan, nan, nan, nan],\n",
       "        [nan, nan, nan, nan],\n",
       "        [nan, nan, nan, nan]]),\n",
       " array([[nan, nan, nan, nan],\n",
       "        [nan, nan, nan, nan],\n",
       "        [nan, nan, nan, nan]]),\n",
       " array([[nan, nan, nan, nan],\n",
       "        [nan, nan, nan, nan],\n",
       "        [nan, nan, nan, nan]]),\n",
       " array([[nan, nan, nan, nan],\n",
       "        [nan, nan, nan, nan],\n",
       "        [nan, nan, nan, nan]]),\n",
       " array([[nan, nan, nan, nan],\n",
       "        [nan, nan, nan, nan],\n",
       "        [nan, nan, nan, nan]]),\n",
       " array([[nan, nan, nan, nan],\n",
       "        [nan, nan, nan, nan],\n",
       "        [nan, nan, nan, nan]]),\n",
       " array([[nan, nan, nan, nan],\n",
       "        [nan, nan, nan, nan],\n",
       "        [nan, nan, nan, nan]]),\n",
       " array([[nan, nan, nan, nan],\n",
       "        [nan, nan, nan, nan],\n",
       "        [nan, nan, nan, nan]]),\n",
       " array([[nan, nan, nan, nan],\n",
       "        [nan, nan, nan, nan],\n",
       "        [nan, nan, nan, nan]]),\n",
       " array([[nan, nan, nan, nan],\n",
       "        [nan, nan, nan, nan],\n",
       "        [nan, nan, nan, nan]]),\n",
       " array([[nan, nan, nan, nan],\n",
       "        [nan, nan, nan, nan],\n",
       "        [nan, nan, nan, nan]]),\n",
       " array([[nan, nan, nan, nan],\n",
       "        [nan, nan, nan, nan],\n",
       "        [nan, nan, nan, nan]]),\n",
       " array([[nan, nan, nan, nan],\n",
       "        [nan, nan, nan, nan],\n",
       "        [nan, nan, nan, nan]]),\n",
       " array([[nan, nan, nan, nan],\n",
       "        [nan, nan, nan, nan],\n",
       "        [nan, nan, nan, nan]]),\n",
       " array([[nan, nan, nan, nan],\n",
       "        [nan, nan, nan, nan],\n",
       "        [nan, nan, nan, nan]]),\n",
       " array([[nan, nan, nan, nan],\n",
       "        [nan, nan, nan, nan],\n",
       "        [nan, nan, nan, nan]]),\n",
       " array([[nan, nan, nan, nan],\n",
       "        [nan, nan, nan, nan],\n",
       "        [nan, nan, nan, nan]]),\n",
       " array([[nan, nan, nan, nan],\n",
       "        [nan, nan, nan, nan],\n",
       "        [nan, nan, nan, nan]]),\n",
       " array([[nan, nan, nan, nan],\n",
       "        [nan, nan, nan, nan],\n",
       "        [nan, nan, nan, nan]]),\n",
       " array([[nan, nan, nan, nan],\n",
       "        [nan, nan, nan, nan],\n",
       "        [nan, nan, nan, nan]]),\n",
       " array([[nan, nan, nan, nan],\n",
       "        [nan, nan, nan, nan],\n",
       "        [nan, nan, nan, nan]]),\n",
       " array([[nan, nan, nan, nan],\n",
       "        [nan, nan, nan, nan],\n",
       "        [nan, nan, nan, nan]]),\n",
       " array([[nan, nan, nan, nan],\n",
       "        [nan, nan, nan, nan],\n",
       "        [nan, nan, nan, nan]]),\n",
       " array([[nan, nan, nan, nan],\n",
       "        [nan, nan, nan, nan],\n",
       "        [nan, nan, nan, nan]]),\n",
       " array([[nan, nan, nan, nan],\n",
       "        [nan, nan, nan, nan],\n",
       "        [nan, nan, nan, nan]]),\n",
       " array([[nan, nan, nan, nan],\n",
       "        [nan, nan, nan, nan],\n",
       "        [nan, nan, nan, nan]]),\n",
       " array([[nan, nan, nan, nan],\n",
       "        [nan, nan, nan, nan],\n",
       "        [nan, nan, nan, nan]]),\n",
       " array([[nan, nan, nan, nan],\n",
       "        [nan, nan, nan, nan],\n",
       "        [nan, nan, nan, nan]]),\n",
       " array([[nan, nan, nan, nan],\n",
       "        [nan, nan, nan, nan],\n",
       "        [nan, nan, nan, nan]]),\n",
       " array([[nan, nan, nan, nan],\n",
       "        [nan, nan, nan, nan],\n",
       "        [nan, nan, nan, nan]]),\n",
       " array([[nan, nan, nan, nan],\n",
       "        [nan, nan, nan, nan],\n",
       "        [nan, nan, nan, nan]]),\n",
       " array([[nan, nan, nan, nan],\n",
       "        [nan, nan, nan, nan],\n",
       "        [nan, nan, nan, nan]]),\n",
       " array([[nan, nan, nan, nan],\n",
       "        [nan, nan, nan, nan],\n",
       "        [nan, nan, nan, nan]]),\n",
       " array([[nan, nan, nan, nan],\n",
       "        [nan, nan, nan, nan],\n",
       "        [nan, nan, nan, nan]]),\n",
       " array([[nan, nan, nan, nan],\n",
       "        [nan, nan, nan, nan],\n",
       "        [nan, nan, nan, nan]]),\n",
       " array([[nan, nan, nan, nan],\n",
       "        [nan, nan, nan, nan],\n",
       "        [nan, nan, nan, nan]]),\n",
       " array([[nan, nan, nan, nan],\n",
       "        [nan, nan, nan, nan],\n",
       "        [nan, nan, nan, nan]]),\n",
       " array([[nan, nan, nan, nan],\n",
       "        [nan, nan, nan, nan],\n",
       "        [nan, nan, nan, nan]]),\n",
       " array([[nan, nan, nan, nan],\n",
       "        [nan, nan, nan, nan],\n",
       "        [nan, nan, nan, nan]]),\n",
       " array([[nan, nan, nan, nan],\n",
       "        [nan, nan, nan, nan],\n",
       "        [nan, nan, nan, nan]]),\n",
       " array([[nan, nan, nan, nan],\n",
       "        [nan, nan, nan, nan],\n",
       "        [nan, nan, nan, nan]]),\n",
       " array([[nan, nan, nan, nan],\n",
       "        [nan, nan, nan, nan],\n",
       "        [nan, nan, nan, nan]]),\n",
       " array([[nan, nan, nan, nan],\n",
       "        [nan, nan, nan, nan],\n",
       "        [nan, nan, nan, nan]]),\n",
       " array([[nan, nan, nan, nan],\n",
       "        [nan, nan, nan, nan],\n",
       "        [nan, nan, nan, nan]]),\n",
       " array([[nan, nan, nan, nan],\n",
       "        [nan, nan, nan, nan],\n",
       "        [nan, nan, nan, nan]]),\n",
       " array([[nan, nan, nan, nan],\n",
       "        [nan, nan, nan, nan],\n",
       "        [nan, nan, nan, nan]]),\n",
       " array([[nan, nan, nan, nan],\n",
       "        [nan, nan, nan, nan],\n",
       "        [nan, nan, nan, nan]]),\n",
       " array([[nan, nan, nan, nan],\n",
       "        [nan, nan, nan, nan],\n",
       "        [nan, nan, nan, nan]]),\n",
       " array([[nan, nan, nan, nan],\n",
       "        [nan, nan, nan, nan],\n",
       "        [nan, nan, nan, nan]]),\n",
       " array([[nan, nan, nan, nan],\n",
       "        [nan, nan, nan, nan],\n",
       "        [nan, nan, nan, nan]]),\n",
       " array([[nan, nan, nan, nan],\n",
       "        [nan, nan, nan, nan],\n",
       "        [nan, nan, nan, nan]]),\n",
       " array([[nan, nan, nan, nan],\n",
       "        [nan, nan, nan, nan],\n",
       "        [nan, nan, nan, nan]]),\n",
       " array([[nan, nan, nan, nan],\n",
       "        [nan, nan, nan, nan],\n",
       "        [nan, nan, nan, nan]]),\n",
       " array([[nan, nan, nan, nan],\n",
       "        [nan, nan, nan, nan],\n",
       "        [nan, nan, nan, nan]]),\n",
       " array([[nan, nan, nan, nan],\n",
       "        [nan, nan, nan, nan],\n",
       "        [nan, nan, nan, nan]]),\n",
       " array([[nan, nan, nan, nan],\n",
       "        [nan, nan, nan, nan],\n",
       "        [nan, nan, nan, nan]]),\n",
       " array([[nan, nan, nan, nan],\n",
       "        [nan, nan, nan, nan],\n",
       "        [nan, nan, nan, nan]]),\n",
       " array([[nan, nan, nan, nan],\n",
       "        [nan, nan, nan, nan],\n",
       "        [nan, nan, nan, nan]]),\n",
       " array([[nan, nan, nan, nan],\n",
       "        [nan, nan, nan, nan],\n",
       "        [nan, nan, nan, nan]]),\n",
       " array([[nan, nan, nan, nan],\n",
       "        [nan, nan, nan, nan],\n",
       "        [nan, nan, nan, nan]]),\n",
       " array([[nan, nan, nan, nan],\n",
       "        [nan, nan, nan, nan],\n",
       "        [nan, nan, nan, nan]]),\n",
       " array([[nan, nan, nan, nan],\n",
       "        [nan, nan, nan, nan],\n",
       "        [nan, nan, nan, nan]]),\n",
       " array([[nan, nan, nan, nan],\n",
       "        [nan, nan, nan, nan],\n",
       "        [nan, nan, nan, nan]]),\n",
       " array([[nan, nan, nan, nan],\n",
       "        [nan, nan, nan, nan],\n",
       "        [nan, nan, nan, nan]]),\n",
       " array([[nan, nan, nan, nan],\n",
       "        [nan, nan, nan, nan],\n",
       "        [nan, nan, nan, nan]]),\n",
       " array([[nan, nan, nan, nan],\n",
       "        [nan, nan, nan, nan],\n",
       "        [nan, nan, nan, nan]]),\n",
       " array([[nan, nan, nan, nan],\n",
       "        [nan, nan, nan, nan],\n",
       "        [nan, nan, nan, nan]]),\n",
       " array([[nan, nan, nan, nan],\n",
       "        [nan, nan, nan, nan],\n",
       "        [nan, nan, nan, nan]]),\n",
       " array([[nan, nan, nan, nan],\n",
       "        [nan, nan, nan, nan],\n",
       "        [nan, nan, nan, nan]]),\n",
       " array([[nan, nan, nan, nan],\n",
       "        [nan, nan, nan, nan],\n",
       "        [nan, nan, nan, nan]])]"
      ]
     },
     "execution_count": 100,
     "metadata": {},
     "output_type": "execute_result"
    }
   ],
   "source": [
    "all_RT"
   ]
  },
  {
   "attachments": {},
   "cell_type": "markdown",
   "metadata": {},
   "source": [
    "## Start the Calibration process!"
   ]
  },
  {
   "cell_type": "code",
   "execution_count": 101,
   "metadata": {},
   "outputs": [],
   "source": [
    "def extractParamFromK(init_K, init_kc):\n",
    "    alpha = init_K[0,0]\n",
    "    gamma = init_K[0,1]\n",
    "    beta = init_K[1,1]\n",
    "    u0 = init_K[0,2]\n",
    "    v0 = init_K[1,2]\n",
    "    k1 = init_kc[0]\n",
    "    k2 = init_kc[1]\n",
    "\n",
    "    x0 = np.array([alpha, gamma, beta, u0, v0, k1, k2])\n",
    "    return x0"
   ]
  },
  {
   "cell_type": "code",
   "execution_count": 102,
   "metadata": {},
   "outputs": [],
   "source": [
    "def retrieveA(x0):\n",
    "    alpha, gamma, beta, u0, v0, k1, k2 = x0\n",
    "    A = np.array([[alpha, gamma, u0], [0, beta, v0], [0, 0, 1]]).reshape(3,3)\n",
    "    kc = np.array([k1, k2]).reshape(2,1)\n",
    "    return A, kc"
   ]
  }
 ],
 "metadata": {
  "kernelspec": {
   "display_name": "ml",
   "language": "python",
   "name": "python3"
  },
  "language_info": {
   "codemirror_mode": {
    "name": "ipython",
    "version": 3
   },
   "file_extension": ".py",
   "mimetype": "text/x-python",
   "name": "python",
   "nbconvert_exporter": "python",
   "pygments_lexer": "ipython3",
   "version": "3.7.16"
  },
  "orig_nbformat": 4,
  "vscode": {
   "interpreter": {
    "hash": "099fd5c3e43525b17c255e8ba7b9c5b403e2029f8af62094b64bbe5ae73026c4"
   }
  }
 },
 "nbformat": 4,
 "nbformat_minor": 2
}
