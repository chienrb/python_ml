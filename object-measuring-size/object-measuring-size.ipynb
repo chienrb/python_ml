{
 "cells": [
  {
   "cell_type": "code",
   "execution_count": null,
   "metadata": {},
   "outputs": [],
   "source": [
    "from scipy.spatial import distance as dist\n",
    "from imutils import perspective\n",
    "from imutils import contours\n",
    "import numpy as np\n",
    "import argparse\n",
    "import imutils\n",
    "import cv2"
   ]
  },
  {
   "cell_type": "code",
   "execution_count": null,
   "metadata": {},
   "outputs": [],
   "source": [
    "def parse_opt(known=False):\n",
    "    parser = argparse.ArgumentParser()\n",
    "    parser.add_argument('--image', type=str, default='image.jpg',\n",
    "        help='path to the input image')\n",
    "    parser.add_argument('--width', type=float, default=0.955,\n",
    "        help='width of the left-most object in the image (in inches)')\n",
    "\n",
    "    return parser.parse_known_args()[0] if known else parser.parse_args()"
   ]
  },
  {
   "cell_type": "code",
   "execution_count": null,
   "metadata": {},
   "outputs": [],
   "source": [
    "def midpoint(ptA, ptB):\n",
    "    return ((ptA[0] + ptB[0]) * 0.5, (ptA[1] + ptB[1]) * 0.5)"
   ]
  },
  {
   "cell_type": "code",
   "execution_count": null,
   "metadata": {},
   "outputs": [],
   "source": [
    "def draw_box(box, args, orig, pixelsPerMetric):\n",
    "\t# loop over the original points and draw them\n",
    "\tfor (x, y) in box:\n",
    "\t\tcv2.circle(orig, (int(x), int(y)), 5, (0, 0, 255), -1)\n",
    "\n",
    "\t# unpack the ordered bounding box, then compute the midpoint\n",
    "\t# between the top-left and top-right coordinates, followed by\n",
    "\t# the midpoint between bottom-left and bottom-right coordinates\n",
    "\t(tl, tr, br, bl) = box\n",
    "\t(tltrX, tltrY) = midpoint(tl, tr)\n",
    "\t(blbrX, blbrY) = midpoint(bl, br)\n",
    "\n",
    "\t# compute the midpoint between the top-left and top-right points,\n",
    "\t# followed by the midpoint between the top-righ and bottom-right\n",
    "\t(tlblX, tlblY) = midpoint(tl, bl)\n",
    "\t(trbrX, trbrY) = midpoint(tr, br)\n",
    "\n",
    "\t# draw the midpoints on the image\n",
    "\tcv2.circle(orig, (int(tltrX), int(tltrY)), 5, (255, 0, 0), -1)\n",
    "\tcv2.circle(orig, (int(blbrX), int(blbrY)), 5, (255, 0, 0), -1)\n",
    "\tcv2.circle(orig, (int(tlblX), int(tlblY)), 5, (255, 0, 0), -1)\n",
    "\tcv2.circle(orig, (int(trbrX), int(trbrY)), 5, (255, 0, 0), -1)\n",
    "\n",
    "\t# draw lines between the midpoints\n",
    "\tcv2.line(orig, (int(tltrX), int(tltrY)), (int(blbrX), int(blbrY)),\n",
    "\t\t(255, 0, 255), 2)\n",
    "\tcv2.line(orig, (int(tlblX), int(tlblY)), (int(trbrX), int(trbrY)),\n",
    "\t\t(255, 0, 255), 2)\n",
    "\n",
    "\t# compute the Euclidean distance between the midpoints\n",
    "\tdA = dist.euclidean((tltrX, tltrY), (blbrX, blbrY))\n",
    "\tdB = dist.euclidean((tlblX, tlblY), (trbrX, trbrY))\n",
    "\n",
    "\t# if the pixels per metric has not been initialized, then\n",
    "\t# compute it as the ratio of pixels to supplied metric\n",
    "\t# (in this case, inches)\n",
    "\tif pixelsPerMetric is None:\n",
    "\t\tpixelsPerMetric = dB / args.width\n",
    "\n",
    "\t# compute the size of the object\n",
    "\tdimA = dA / pixelsPerMetric\n",
    "\tdimB = dB / pixelsPerMetric\n",
    "\n",
    "\t# draw the object sizes on the image\n",
    "\tcv2.putText(orig, \"{:.1f}in\".format(dimA),\n",
    "\t\t(int(tltrX - 15), int(tltrY - 10)), cv2.FONT_HERSHEY_SIMPLEX,\n",
    "\t\t0.65, (255, 255, 255), 2)\n",
    "\tcv2.putText(orig, \"{:.1f}in\".format(dimB),\n",
    "\t\t(int(trbrX + 10), int(trbrY)), cv2.FONT_HERSHEY_SIMPLEX,\n",
    "\t\t0.65, (255, 255, 255), 2)\n",
    "\n",
    "\treturn orig, pixelsPerMetric"
   ]
  },
  {
   "cell_type": "code",
   "execution_count": null,
   "metadata": {},
   "outputs": [],
   "source": [
    "from matplotlib import pyplot as plt\n",
    "\n",
    "def find_box(cnts, args, image):\n",
    "    pixelsPerMetric = None\n",
    "    for c in cnts:\n",
    "        # if the contour is not sufficiently large, ignore it\n",
    "        if cv2.contourArea(c) < 100:\n",
    "            continue\n",
    "\n",
    "        # compute the rotated bounding box of the contour\n",
    "        orig = image.copy()\n",
    "        box = cv2.minAreaRect(c)\n",
    "        box = cv2.boxPoints(box)\n",
    "        box = np.array(box, dtype=\"int\")\n",
    "\n",
    "        # order the points in the contour such that they appear in top-left, top-right, bottom-right,\n",
    "        # and bottom-left order, then draw the outline of the rotated bounding box\n",
    "        box = perspective.order_points(box)\n",
    "        cv2.drawContours(orig, [box.astype(\"int\")], -1, (0,255,0), 2)\n",
    "\n",
    "        orig, pixelsPerMetric = draw_box(box, args, orig, pixelsPerMetric)\n",
    "\n",
    "        # show the output image\n",
    "        plt.plot(orig)\n",
    "        plt.show()"
   ]
  },
  {
   "cell_type": "code",
   "execution_count": null,
   "metadata": {},
   "outputs": [],
   "source": [
    "def main(args):\n",
    "    # load the image, convert it to grayscale, and blur it slightly\n",
    "    image = cv2.imread(args.image,0)\n",
    "    image = cv2.GaussianBlur(image,(7,7),0)\n",
    "\n",
    "    # perform edge detection, then perform a dilation + erosion to close gaps in between object edges\n",
    "    edged = cv2.Canny(image, 50 , 100)\n",
    "    edged = cv2.dilate(edged, None, iterations=1)\n",
    "    edged = cv2.erode(edged, None, iterations=1)\n",
    "\n",
    "    # find contours in the edge map\n",
    "    cnts = cv2.findContours(edged.copy(), cv2.RETR_EXTERNAL, cv2.CHAIN_APPROX_SIMPLE)\n",
    "    cnts = imutils.grab_contours(cnts)\n",
    "\n",
    "    # sort the contours from left-to-right and initialize the 'pixels per metric' calibration variable\n",
    "    cnts, _ = contours.sort_contours(cnts)\n",
    "    find_box(cnts,args,image)"
   ]
  },
  {
   "cell_type": "code",
   "execution_count": null,
   "metadata": {},
   "outputs": [],
   "source": [
    "if __name__ == '__main__':\n",
    "    opt = parse_opt(known=True)\n",
    "    main(opt)"
   ]
  }
 ],
 "metadata": {
  "kernelspec": {
   "display_name": "ml",
   "language": "python",
   "name": "python3"
  },
  "language_info": {
   "codemirror_mode": {
    "name": "ipython",
    "version": 3
   },
   "file_extension": ".py",
   "mimetype": "text/x-python",
   "name": "python",
   "nbconvert_exporter": "python",
   "pygments_lexer": "ipython3",
   "version": "3.7.16"
  },
  "orig_nbformat": 4,
  "vscode": {
   "interpreter": {
    "hash": "099fd5c3e43525b17c255e8ba7b9c5b403e2029f8af62094b64bbe5ae73026c4"
   }
  }
 },
 "nbformat": 4,
 "nbformat_minor": 2
}
