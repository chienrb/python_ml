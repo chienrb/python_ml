{
 "cells": [
  {
   "cell_type": "markdown",
   "metadata": {},
   "source": [
    "Prepare"
   ]
  },
  {
   "cell_type": "code",
   "execution_count": 1,
   "metadata": {},
   "outputs": [],
   "source": [
    "data_dir = 'data/state'"
   ]
  },
  {
   "cell_type": "code",
   "execution_count": 2,
   "metadata": {},
   "outputs": [],
   "source": [
    "import pathlib\n",
    "def image_count(data_dir):\n",
    "    data_dir = pathlib.Path(data_dir)\n",
    "    image_count = len(list(data_dir.glob('*/*.jpg')))\n",
    "\n",
    "    return image_count"
   ]
  },
  {
   "cell_type": "code",
   "execution_count": 3,
   "metadata": {},
   "outputs": [
    {
     "name": "stdout",
     "output_type": "stream",
     "text": [
      "35887\n"
     ]
    }
   ],
   "source": [
    "image_count = image_count(data_dir)\n",
    "print(image_count)"
   ]
  },
  {
   "cell_type": "code",
   "execution_count": 4,
   "metadata": {},
   "outputs": [
    {
     "name": "stderr",
     "output_type": "stream",
     "text": [
      "2022-12-26 16:03:49.071142: I tensorflow/core/platform/cpu_feature_guard.cc:193] This TensorFlow binary is optimized with oneAPI Deep Neural Network Library (oneDNN) to use the following CPU instructions in performance-critical operations:  AVX2 FMA\n",
      "To enable them in other operations, rebuild TensorFlow with the appropriate compiler flags.\n",
      "2022-12-26 16:03:50.613927: W tensorflow/compiler/xla/stream_executor/platform/default/dso_loader.cc:64] Could not load dynamic library 'libnvinfer.so.7'; dlerror: libnvinfer.so.7: cannot open shared object file: No such file or directory; LD_LIBRARY_PATH: /home/tvc/gtrbtm_ws/devel/lib:/home/tvc/catkin_ws/devel/lib:/opt/ros/noetic/lib:/opt/ros/noetic/lib/x86_64-linux-gnu:/usr/local/cuda-11.7/lib64\n",
      "2022-12-26 16:03:50.614024: W tensorflow/compiler/xla/stream_executor/platform/default/dso_loader.cc:64] Could not load dynamic library 'libnvinfer_plugin.so.7'; dlerror: libnvinfer_plugin.so.7: cannot open shared object file: No such file or directory; LD_LIBRARY_PATH: /home/tvc/gtrbtm_ws/devel/lib:/home/tvc/catkin_ws/devel/lib:/opt/ros/noetic/lib:/opt/ros/noetic/lib/x86_64-linux-gnu:/usr/local/cuda-11.7/lib64\n",
      "2022-12-26 16:03:50.614031: W tensorflow/compiler/tf2tensorrt/utils/py_utils.cc:38] TF-TRT Warning: Cannot dlopen some TensorRT libraries. If you would like to use Nvidia GPU with TensorRT, please make sure the missing libraries mentioned above are installed properly.\n"
     ]
    }
   ],
   "source": [
    "import tensorflow as tf\n",
    "def split_data(data_dir, split_size=0.2, seed = 123, color_mode='grayscale'):\n",
    "    train_ds = tf.keras.utils.image_dataset_from_directory(\n",
    "        data_dir,\n",
    "        validation_split=split_size,\n",
    "        color_mode=color_mode,\n",
    "        seed=seed,\n",
    "        subset=\"training\",\n",
    "        image_size=(48,48),\n",
    "        batch_size=64)\n",
    "    \n",
    "    val_ds = tf.keras.utils.image_dataset_from_directory(\n",
    "        data_dir,\n",
    "        validation_split=split_size,\n",
    "        color_mode=color_mode,\n",
    "        seed=seed,\n",
    "        subset=\"validation\",\n",
    "        image_size=(48,48),\n",
    "        batch_size=64)\n",
    "\n",
    "    return (train_ds, val_ds)"
   ]
  },
  {
   "cell_type": "code",
   "execution_count": 5,
   "metadata": {},
   "outputs": [
    {
     "name": "stdout",
     "output_type": "stream",
     "text": [
      "Found 35887 files belonging to 7 classes.\n",
      "Using 28710 files for training.\n"
     ]
    },
    {
     "name": "stderr",
     "output_type": "stream",
     "text": [
      "2022-12-26 16:03:52.891544: I tensorflow/compiler/xla/stream_executor/cuda/cuda_gpu_executor.cc:981] successful NUMA node read from SysFS had negative value (-1), but there must be at least one NUMA node, so returning NUMA node zero\n",
      "2022-12-26 16:03:52.952578: I tensorflow/compiler/xla/stream_executor/cuda/cuda_gpu_executor.cc:981] successful NUMA node read from SysFS had negative value (-1), but there must be at least one NUMA node, so returning NUMA node zero\n",
      "2022-12-26 16:03:52.952893: I tensorflow/compiler/xla/stream_executor/cuda/cuda_gpu_executor.cc:981] successful NUMA node read from SysFS had negative value (-1), but there must be at least one NUMA node, so returning NUMA node zero\n",
      "2022-12-26 16:03:52.954132: I tensorflow/core/platform/cpu_feature_guard.cc:193] This TensorFlow binary is optimized with oneAPI Deep Neural Network Library (oneDNN) to use the following CPU instructions in performance-critical operations:  AVX2 FMA\n",
      "To enable them in other operations, rebuild TensorFlow with the appropriate compiler flags.\n",
      "2022-12-26 16:03:52.954542: I tensorflow/compiler/xla/stream_executor/cuda/cuda_gpu_executor.cc:981] successful NUMA node read from SysFS had negative value (-1), but there must be at least one NUMA node, so returning NUMA node zero\n",
      "2022-12-26 16:03:52.954785: I tensorflow/compiler/xla/stream_executor/cuda/cuda_gpu_executor.cc:981] successful NUMA node read from SysFS had negative value (-1), but there must be at least one NUMA node, so returning NUMA node zero\n",
      "2022-12-26 16:03:52.954928: I tensorflow/compiler/xla/stream_executor/cuda/cuda_gpu_executor.cc:981] successful NUMA node read from SysFS had negative value (-1), but there must be at least one NUMA node, so returning NUMA node zero\n",
      "2022-12-26 16:03:53.827372: I tensorflow/compiler/xla/stream_executor/cuda/cuda_gpu_executor.cc:981] successful NUMA node read from SysFS had negative value (-1), but there must be at least one NUMA node, so returning NUMA node zero\n",
      "2022-12-26 16:03:53.827815: I tensorflow/compiler/xla/stream_executor/cuda/cuda_gpu_executor.cc:981] successful NUMA node read from SysFS had negative value (-1), but there must be at least one NUMA node, so returning NUMA node zero\n",
      "2022-12-26 16:03:53.827916: I tensorflow/compiler/xla/stream_executor/cuda/cuda_gpu_executor.cc:981] successful NUMA node read from SysFS had negative value (-1), but there must be at least one NUMA node, so returning NUMA node zero\n",
      "2022-12-26 16:03:53.828197: I tensorflow/core/common_runtime/gpu/gpu_device.cc:1613] Created device /job:localhost/replica:0/task:0/device:GPU:0 with 1966 MB memory:  -> device: 0, name: NVIDIA GeForce GTX 1650 Ti, pci bus id: 0000:01:00.0, compute capability: 7.5\n"
     ]
    },
    {
     "name": "stdout",
     "output_type": "stream",
     "text": [
      "Found 35887 files belonging to 7 classes.\n",
      "Using 7177 files for validation.\n"
     ]
    }
   ],
   "source": [
    "(train_ds, val_ds) = split_data(data_dir, split_size=0.2)"
   ]
  },
  {
   "cell_type": "code",
   "execution_count": 6,
   "metadata": {},
   "outputs": [
    {
     "name": "stdout",
     "output_type": "stream",
     "text": [
      "['angry', 'disgust', 'fear', 'happy', 'neutral', 'sad', 'surprise']\n"
     ]
    }
   ],
   "source": [
    "class_names = train_ds.class_names\n",
    "print(class_names)"
   ]
  },
  {
   "cell_type": "markdown",
   "metadata": {},
   "source": [
    "The RGB channel value is in the range [0, 255] . This is not ideal for neural networks; in general you should find a way to reduce your input value."
   ]
  },
  {
   "cell_type": "code",
   "execution_count": 7,
   "metadata": {},
   "outputs": [],
   "source": [
    "# normalization_layer = tf.keras.layers.Rescaling(1./255)"
   ]
  },
  {
   "cell_type": "code",
   "execution_count": 8,
   "metadata": {},
   "outputs": [],
   "source": [
    "# train_ds = train_ds.map(lambda x, y: (normalization_layer(x), y))\n",
    "# val_ds = val_ds.map(lambda x, y: (normalization_layer(x), y))"
   ]
  },
  {
   "cell_type": "code",
   "execution_count": 9,
   "metadata": {},
   "outputs": [
    {
     "name": "stdout",
     "output_type": "stream",
     "text": [
      "(64, 48, 48, 1)\n",
      "(64,)\n"
     ]
    }
   ],
   "source": [
    "for image_batch, labels_batch in train_ds:\n",
    "    print(image_batch.shape)\n",
    "    print(labels_batch.shape)\n",
    "    break"
   ]
  },
  {
   "cell_type": "markdown",
   "metadata": {},
   "source": [
    "Configure the datasets according to performance"
   ]
  },
  {
   "cell_type": "code",
   "execution_count": 10,
   "metadata": {},
   "outputs": [],
   "source": [
    "AUTOTUNE = tf.data.AUTOTUNE\n",
    "\n",
    "train_ds = train_ds.cache().prefetch(buffer_size=AUTOTUNE)\n",
    "val_ds = val_ds.cache().prefetch(buffer_size=AUTOTUNE)"
   ]
  },
  {
   "cell_type": "code",
   "execution_count": 11,
   "metadata": {},
   "outputs": [
    {
     "data": {
      "text/plain": [
       "<PrefetchDataset element_spec=(TensorSpec(shape=(None, 48, 48, 1), dtype=tf.float32, name=None), TensorSpec(shape=(None,), dtype=tf.int32, name=None))>"
      ]
     },
     "execution_count": 11,
     "metadata": {},
     "output_type": "execute_result"
    }
   ],
   "source": [
    "train_ds"
   ]
  },
  {
   "cell_type": "markdown",
   "metadata": {},
   "source": [
    "Create network"
   ]
  },
  {
   "cell_type": "code",
   "execution_count": 12,
   "metadata": {},
   "outputs": [],
   "source": [
    "num_classes = 7\n",
    "\n",
    "emotion_model = tf.keras.Sequential([\n",
    "    tf.keras.layers.Rescaling(1./255),\n",
    "    # tf.keras.layers.Conv2D(32, kernel_size=(3, 3), activation='relu')\n",
    "    tf.keras.layers.Conv2D(32, 3, activation='relu'),\n",
    "    tf.keras.layers.Conv2D(64, 3, activation='relu'),\n",
    "    # tf.keras.layers.MaxPooling2D(pool_size=(2, 2))\n",
    "    tf.keras.layers.MaxPooling2D(),\n",
    "    tf.keras.layers.Dropout(0.1),\n",
    "    tf.keras.layers.Conv2D(128, 3, activation='relu'),\n",
    "    tf.keras.layers.MaxPooling2D(),\n",
    "    tf.keras.layers.Conv2D(128, 3, activation='relu'),\n",
    "    tf.keras.layers.MaxPooling2D(),\n",
    "    tf.keras.layers.Dropout(0.1),\n",
    "    tf.keras.layers.Flatten(),\n",
    "    tf.keras.layers.Dense(1024, activation='relu'),\n",
    "    tf.keras.layers.Dropout(0.1),\n",
    "    tf.keras.layers.Dense(num_classes, activation='softmax')]\n",
    ")"
   ]
  },
  {
   "cell_type": "code",
   "execution_count": 13,
   "metadata": {},
   "outputs": [
    {
     "name": "stdout",
     "output_type": "stream",
     "text": [
      "Model: \"sequential\"\n",
      "_________________________________________________________________\n",
      " Layer (type)                Output Shape              Param #   \n",
      "=================================================================\n",
      " rescaling (Rescaling)       (None, 48, 48, 1)         0         \n",
      "                                                                 \n",
      " conv2d (Conv2D)             (None, 46, 46, 32)        320       \n",
      "                                                                 \n",
      " conv2d_1 (Conv2D)           (None, 44, 44, 64)        18496     \n",
      "                                                                 \n",
      " max_pooling2d (MaxPooling2D  (None, 22, 22, 64)       0         \n",
      " )                                                               \n",
      "                                                                 \n",
      " dropout (Dropout)           (None, 22, 22, 64)        0         \n",
      "                                                                 \n",
      " conv2d_2 (Conv2D)           (None, 20, 20, 128)       73856     \n",
      "                                                                 \n",
      " max_pooling2d_1 (MaxPooling  (None, 10, 10, 128)      0         \n",
      " 2D)                                                             \n",
      "                                                                 \n",
      " conv2d_3 (Conv2D)           (None, 8, 8, 128)         147584    \n",
      "                                                                 \n",
      " max_pooling2d_2 (MaxPooling  (None, 4, 4, 128)        0         \n",
      " 2D)                                                             \n",
      "                                                                 \n",
      " dropout_1 (Dropout)         (None, 4, 4, 128)         0         \n",
      "                                                                 \n",
      " flatten (Flatten)           (None, 2048)              0         \n",
      "                                                                 \n",
      " dense (Dense)               (None, 1024)              2098176   \n",
      "                                                                 \n",
      " dropout_2 (Dropout)         (None, 1024)              0         \n",
      "                                                                 \n",
      " dense_1 (Dense)             (None, 7)                 7175      \n",
      "                                                                 \n",
      "=================================================================\n",
      "Total params: 2,345,607\n",
      "Trainable params: 2,345,607\n",
      "Non-trainable params: 0\n",
      "_________________________________________________________________\n"
     ]
    }
   ],
   "source": [
    "emotion_model.build((None, 48,48,1))\n",
    "emotion_model.summary()"
   ]
  },
  {
   "cell_type": "markdown",
   "metadata": {},
   "source": [
    "Compile and train"
   ]
  },
  {
   "cell_type": "code",
   "execution_count": 14,
   "metadata": {},
   "outputs": [],
   "source": [
    "from keras.optimizers import Adam"
   ]
  },
  {
   "cell_type": "code",
   "execution_count": 15,
   "metadata": {},
   "outputs": [],
   "source": [
    "# emotion_model.compile(loss='categorical_crossentropy',optimizer=Adam(learning_rate=0.0001, decay=1e-6),metrics=['accuracy'])\n",
    "emotion_model.compile(\n",
    "  optimizer=Adam(learning_rate=0.0001, decay=1e-6),\n",
    "  loss='sparse_categorical_crossentropy',\n",
    "  metrics=['accuracy'])"
   ]
  },
  {
   "cell_type": "code",
   "execution_count": 16,
   "metadata": {},
   "outputs": [
    {
     "name": "stdout",
     "output_type": "stream",
     "text": [
      "Epoch 1/50\n"
     ]
    },
    {
     "name": "stderr",
     "output_type": "stream",
     "text": [
      "2022-12-26 16:03:56.371563: E tensorflow/core/grappler/optimizers/meta_optimizer.cc:954] layout failed: INVALID_ARGUMENT: Size of values 0 does not match size of permutation 4 @ fanin shape insequential/dropout/dropout/SelectV2-2-TransposeNHWCToNCHW-LayoutOptimizer\n",
      "2022-12-26 16:03:57.120050: I tensorflow/compiler/xla/stream_executor/cuda/cuda_dnn.cc:428] Loaded cuDNN version 8401\n",
      "2022-12-26 16:03:57.814454: W tensorflow/compiler/xla/stream_executor/gpu/asm_compiler.cc:115] *** WARNING *** You are using ptxas 10.1.243, which is older than 11.1. ptxas before 11.1 is known to miscompile XLA code, leading to incorrect results or invalid-address errors.\n",
      "\n",
      "You may not need to update to CUDA 11.1; cherry-picking the ptxas binary is often sufficient.\n"
     ]
    },
    {
     "name": "stdout",
     "output_type": "stream",
     "text": [
      "449/449 [==============================] - 15s 28ms/step - loss: 1.7278 - accuracy: 0.3091 - val_loss: 1.5954 - val_accuracy: 0.3867\n",
      "Epoch 2/50\n",
      "449/449 [==============================] - 12s 27ms/step - loss: 1.5382 - accuracy: 0.4096 - val_loss: 1.5098 - val_accuracy: 0.4186\n",
      "Epoch 3/50\n",
      "449/449 [==============================] - 12s 27ms/step - loss: 1.4304 - accuracy: 0.4557 - val_loss: 1.4465 - val_accuracy: 0.4467\n",
      "Epoch 4/50\n",
      "449/449 [==============================] - 12s 27ms/step - loss: 1.3482 - accuracy: 0.4910 - val_loss: 1.3873 - val_accuracy: 0.4758\n",
      "Epoch 5/50\n",
      "449/449 [==============================] - 11s 25ms/step - loss: 1.2805 - accuracy: 0.5159 - val_loss: 1.3440 - val_accuracy: 0.4994\n",
      "Epoch 6/50\n",
      "449/449 [==============================] - 11s 25ms/step - loss: 1.2232 - accuracy: 0.5389 - val_loss: 1.2953 - val_accuracy: 0.5141\n",
      "Epoch 7/50\n",
      "449/449 [==============================] - 11s 25ms/step - loss: 1.1706 - accuracy: 0.5639 - val_loss: 1.2626 - val_accuracy: 0.5268\n",
      "Epoch 8/50\n",
      "449/449 [==============================] - 11s 25ms/step - loss: 1.1198 - accuracy: 0.5813 - val_loss: 1.2436 - val_accuracy: 0.5378\n",
      "Epoch 9/50\n",
      "449/449 [==============================] - 12s 27ms/step - loss: 1.0699 - accuracy: 0.6057 - val_loss: 1.2594 - val_accuracy: 0.5374\n",
      "Epoch 10/50\n",
      "449/449 [==============================] - 12s 27ms/step - loss: 1.0196 - accuracy: 0.6246 - val_loss: 1.2288 - val_accuracy: 0.5515\n",
      "Epoch 11/50\n",
      "449/449 [==============================] - 12s 27ms/step - loss: 0.9671 - accuracy: 0.6456 - val_loss: 1.2075 - val_accuracy: 0.5614\n",
      "Epoch 12/50\n",
      "449/449 [==============================] - 12s 27ms/step - loss: 0.9190 - accuracy: 0.6655 - val_loss: 1.2392 - val_accuracy: 0.5601\n",
      "Epoch 13/50\n",
      "449/449 [==============================] - 12s 27ms/step - loss: 0.8652 - accuracy: 0.6874 - val_loss: 1.2153 - val_accuracy: 0.5717\n",
      "Epoch 14/50\n",
      "449/449 [==============================] - 12s 27ms/step - loss: 0.8175 - accuracy: 0.7029 - val_loss: 1.2370 - val_accuracy: 0.5709\n",
      "Epoch 15/50\n",
      "449/449 [==============================] - 13s 29ms/step - loss: 0.7584 - accuracy: 0.7304 - val_loss: 1.2356 - val_accuracy: 0.5798\n",
      "Epoch 16/50\n",
      "449/449 [==============================] - 12s 27ms/step - loss: 0.6999 - accuracy: 0.7489 - val_loss: 1.2762 - val_accuracy: 0.5754\n",
      "Epoch 17/50\n",
      "449/449 [==============================] - 12s 27ms/step - loss: 0.6487 - accuracy: 0.7703 - val_loss: 1.3194 - val_accuracy: 0.5749\n",
      "Epoch 18/50\n",
      "449/449 [==============================] - 12s 27ms/step - loss: 0.5872 - accuracy: 0.7942 - val_loss: 1.3224 - val_accuracy: 0.5844\n",
      "Epoch 19/50\n",
      "449/449 [==============================] - 12s 27ms/step - loss: 0.5406 - accuracy: 0.8113 - val_loss: 1.3853 - val_accuracy: 0.5803\n",
      "Epoch 20/50\n",
      "449/449 [==============================] - 12s 27ms/step - loss: 0.4862 - accuracy: 0.8297 - val_loss: 1.4289 - val_accuracy: 0.5781\n",
      "Epoch 21/50\n",
      "449/449 [==============================] - 12s 27ms/step - loss: 0.4423 - accuracy: 0.8467 - val_loss: 1.4782 - val_accuracy: 0.5778\n",
      "Epoch 22/50\n",
      "449/449 [==============================] - 12s 27ms/step - loss: 0.4059 - accuracy: 0.8583 - val_loss: 1.4870 - val_accuracy: 0.5842\n",
      "Epoch 23/50\n",
      "449/449 [==============================] - 13s 28ms/step - loss: 0.3700 - accuracy: 0.8729 - val_loss: 1.5172 - val_accuracy: 0.5883\n",
      "Epoch 24/50\n",
      "449/449 [==============================] - 12s 26ms/step - loss: 0.3332 - accuracy: 0.8856 - val_loss: 1.5459 - val_accuracy: 0.5823\n",
      "Epoch 25/50\n",
      "449/449 [==============================] - 12s 26ms/step - loss: 0.3037 - accuracy: 0.8955 - val_loss: 1.6365 - val_accuracy: 0.5746\n",
      "Epoch 26/50\n",
      "449/449 [==============================] - 12s 26ms/step - loss: 0.2707 - accuracy: 0.9078 - val_loss: 1.6729 - val_accuracy: 0.5785\n",
      "Epoch 27/50\n",
      "449/449 [==============================] - 11s 26ms/step - loss: 0.2471 - accuracy: 0.9149 - val_loss: 1.7146 - val_accuracy: 0.5807\n",
      "Epoch 28/50\n",
      "449/449 [==============================] - 12s 27ms/step - loss: 0.2194 - accuracy: 0.9265 - val_loss: 1.7465 - val_accuracy: 0.5872\n",
      "Epoch 29/50\n",
      "449/449 [==============================] - 12s 27ms/step - loss: 0.2007 - accuracy: 0.9331 - val_loss: 1.7771 - val_accuracy: 0.5824\n",
      "Epoch 30/50\n",
      "449/449 [==============================] - 12s 27ms/step - loss: 0.1813 - accuracy: 0.9389 - val_loss: 1.8521 - val_accuracy: 0.5672\n",
      "Epoch 31/50\n",
      "449/449 [==============================] - 13s 29ms/step - loss: 0.1723 - accuracy: 0.9426 - val_loss: 1.8849 - val_accuracy: 0.5739\n",
      "Epoch 32/50\n",
      "449/449 [==============================] - 12s 27ms/step - loss: 0.1548 - accuracy: 0.9496 - val_loss: 1.9470 - val_accuracy: 0.5764\n",
      "Epoch 33/50\n",
      "449/449 [==============================] - 12s 27ms/step - loss: 0.1461 - accuracy: 0.9522 - val_loss: 1.9969 - val_accuracy: 0.5735\n",
      "Epoch 34/50\n",
      "449/449 [==============================] - 12s 27ms/step - loss: 0.1334 - accuracy: 0.9561 - val_loss: 2.0676 - val_accuracy: 0.5632\n",
      "Epoch 35/50\n",
      "449/449 [==============================] - 12s 27ms/step - loss: 0.1263 - accuracy: 0.9595 - val_loss: 2.0954 - val_accuracy: 0.5693\n",
      "Epoch 36/50\n",
      "449/449 [==============================] - 12s 27ms/step - loss: 0.1192 - accuracy: 0.9604 - val_loss: 2.1491 - val_accuracy: 0.5791\n",
      "Epoch 37/50\n",
      "449/449 [==============================] - 11s 25ms/step - loss: 0.1132 - accuracy: 0.9614 - val_loss: 2.1478 - val_accuracy: 0.5728\n",
      "Epoch 38/50\n",
      "449/449 [==============================] - 12s 27ms/step - loss: 0.1030 - accuracy: 0.9667 - val_loss: 2.2403 - val_accuracy: 0.5689\n",
      "Epoch 39/50\n",
      "449/449 [==============================] - 12s 27ms/step - loss: 0.0977 - accuracy: 0.9683 - val_loss: 2.3084 - val_accuracy: 0.5637\n",
      "Epoch 40/50\n",
      "449/449 [==============================] - 13s 28ms/step - loss: 0.0902 - accuracy: 0.9712 - val_loss: 2.2775 - val_accuracy: 0.5830\n",
      "Epoch 41/50\n",
      "449/449 [==============================] - 12s 27ms/step - loss: 0.0870 - accuracy: 0.9718 - val_loss: 2.2829 - val_accuracy: 0.5766\n",
      "Epoch 42/50\n",
      "449/449 [==============================] - 12s 27ms/step - loss: 0.0892 - accuracy: 0.9716 - val_loss: 2.2859 - val_accuracy: 0.5754\n",
      "Epoch 43/50\n",
      "449/449 [==============================] - 13s 28ms/step - loss: 0.0797 - accuracy: 0.9751 - val_loss: 2.3452 - val_accuracy: 0.5764\n",
      "Epoch 44/50\n",
      "449/449 [==============================] - 13s 29ms/step - loss: 0.0754 - accuracy: 0.9759 - val_loss: 2.3724 - val_accuracy: 0.5760\n",
      "Epoch 45/50\n",
      "449/449 [==============================] - 13s 28ms/step - loss: 0.0721 - accuracy: 0.9777 - val_loss: 2.4296 - val_accuracy: 0.5748\n",
      "Epoch 46/50\n",
      "449/449 [==============================] - 13s 29ms/step - loss: 0.0674 - accuracy: 0.9778 - val_loss: 2.3603 - val_accuracy: 0.5775\n",
      "Epoch 47/50\n",
      "449/449 [==============================] - 12s 28ms/step - loss: 0.0684 - accuracy: 0.9775 - val_loss: 2.3345 - val_accuracy: 0.5759\n",
      "Epoch 48/50\n",
      "449/449 [==============================] - 12s 27ms/step - loss: 0.0616 - accuracy: 0.9807 - val_loss: 2.3955 - val_accuracy: 0.5866\n",
      "Epoch 49/50\n",
      "449/449 [==============================] - 12s 27ms/step - loss: 0.0575 - accuracy: 0.9822 - val_loss: 2.4651 - val_accuracy: 0.5895\n",
      "Epoch 50/50\n",
      "449/449 [==============================] - 12s 27ms/step - loss: 0.0604 - accuracy: 0.9802 - val_loss: 2.4703 - val_accuracy: 0.5802\n"
     ]
    }
   ],
   "source": [
    "emotion_model_info = emotion_model.fit(train_ds, validation_data=val_ds, batch_size = 64, epochs = 50)"
   ]
  },
  {
   "cell_type": "markdown",
   "metadata": {},
   "source": [
    "Save the model weights"
   ]
  },
  {
   "cell_type": "code",
   "execution_count": 17,
   "metadata": {},
   "outputs": [],
   "source": [
    "emotion_model.save_weights('models/model.h5')"
   ]
  }
 ],
 "metadata": {
  "kernelspec": {
   "display_name": "Python 3.7.15 ('ml')",
   "language": "python",
   "name": "python3"
  },
  "language_info": {
   "codemirror_mode": {
    "name": "ipython",
    "version": 3
   },
   "file_extension": ".py",
   "mimetype": "text/x-python",
   "name": "python",
   "nbconvert_exporter": "python",
   "pygments_lexer": "ipython3",
   "version": "3.7.15"
  },
  "orig_nbformat": 4,
  "vscode": {
   "interpreter": {
    "hash": "099fd5c3e43525b17c255e8ba7b9c5b403e2029f8af62094b64bbe5ae73026c4"
   }
  }
 },
 "nbformat": 4,
 "nbformat_minor": 2
}
